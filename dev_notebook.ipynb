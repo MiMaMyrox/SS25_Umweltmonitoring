{
 "cells": [
  {
   "cell_type": "markdown",
   "id": "e08b8fab",
   "metadata": {},
   "source": [
    "## Infos"
   ]
  },
  {
   "cell_type": "markdown",
   "id": "0d6ed3a4",
   "metadata": {},
   "source": [
    "Da es sich um ein lokales Docker Projekt handelt, muss Docker Desktop installiert sein.\n",
    "Für dieses Notebook kann die requirements.txt mit python 3.13.3 genutzt werden.\n",
    "Nach dem starten der docker-compose kann es losgehen, sobald alle container gebaut wurden :)"
   ]
  },
  {
   "cell_type": "markdown",
   "id": "8a0c8481",
   "metadata": {},
   "source": [
    "## Datenbeschaffung"
   ]
  },
  {
   "cell_type": "markdown",
   "id": "0672cc40",
   "metadata": {},
   "source": [
    "Zunächst muss die Datenbank generiert werden. Es werden ca 500.000 Datenpunkte aus dem Archiv von OpenSense geladen. Die laufzeit beträgt ca 15. minuten"
   ]
  },
  {
   "cell_type": "code",
   "execution_count": 60,
   "id": "40785df5",
   "metadata": {},
   "outputs": [
    {
     "data": {
      "text/plain": [
       "{'status': 'created',\n",
       " 'info': {'from': '2022-07-25 02:01:49',\n",
       "  'to': '2025-06-29 23:34:51',\n",
       "  'total_measurements': 519067}}"
      ]
     },
     "execution_count": 60,
     "metadata": {},
     "output_type": "execute_result"
    }
   ],
   "source": [
    "import requests\n",
    "response = requests.get(\"http://localhost:8000/create-db\")\n",
    "response.json()"
   ]
  },
  {
   "cell_type": "markdown",
   "id": "7cf15e91",
   "metadata": {},
   "source": [
    "## Modell training"
   ]
  },
  {
   "cell_type": "markdown",
   "id": "41934eb1",
   "metadata": {},
   "source": [
    "Das Modelltraining muss einmal über dieses Notebook gestartet werden. Dafür können wir jetzt die Daten von der Datenbank abfragen."
   ]
  },
  {
   "cell_type": "code",
   "execution_count": 61,
   "id": "f17ff981",
   "metadata": {},
   "outputs": [
    {
     "data": {
      "application/vnd.microsoft.datawrangler.viewer.v0+json": {
       "columns": [
        {
         "name": "index",
         "rawType": "int64",
         "type": "integer"
        },
        {
         "name": "createdat",
         "rawType": "datetime64[ns, UTC]",
         "type": "unknown"
        },
        {
         "name": "pm10",
         "rawType": "float64",
         "type": "float"
        },
        {
         "name": "pm25",
         "rawType": "float64",
         "type": "float"
        },
        {
         "name": "temperatur",
         "rawType": "float64",
         "type": "float"
        },
        {
         "name": "rel_luftfeuchte",
         "rawType": "float64",
         "type": "float"
        },
        {
         "name": "luftdruck",
         "rawType": "float64",
         "type": "float"
        }
       ],
       "ref": "1100f7e2-2f89-4c01-88e2-41d8b9d81f61",
       "rows": [
        [
         "0",
         "2022-07-25 00:01:49.463000+00:00",
         "10.73",
         "9.93",
         "22.98",
         "73.16",
         "99784.28"
        ],
        [
         "1",
         "2022-07-25 00:04:39.011000+00:00",
         "10.8",
         "9.8",
         "23.02",
         "71.94",
         "99785.34"
        ],
        [
         "2",
         "2022-07-25 00:07:27.816000+00:00",
         "11.7",
         "10.7",
         "22.95",
         "71.77",
         "99781.03"
        ],
        [
         "3",
         "2022-07-25 00:10:16.348000+00:00",
         "11.77",
         "10.77",
         "22.95",
         "71.67",
         "99777.47"
        ],
        [
         "4",
         "2022-07-25 00:13:04.992000+00:00",
         "11.1",
         "10.2",
         "22.89",
         "72.1",
         "99773.19"
        ],
        [
         "5",
         "2022-07-25 00:15:55.074000+00:00",
         "11.1",
         "10.2",
         "22.8",
         "72.43",
         "99772.22"
        ],
        [
         "6",
         "2022-07-25 00:18:43.674000+00:00",
         "12.6",
         "11.47",
         "22.73",
         "72.7",
         "99769.0"
        ],
        [
         "7",
         "2022-07-25 00:21:32.696000+00:00",
         "12.3",
         "11.2",
         "22.7",
         "72.9",
         "99777.81"
        ],
        [
         "8",
         "2022-07-25 00:24:21.287000+00:00",
         "11.8",
         "10.87",
         "22.72",
         "72.85",
         "99779.13"
        ],
        [
         "9",
         "2022-07-25 00:27:09.819000+00:00",
         "13.13",
         "11.87",
         "22.7",
         "73.27",
         "99781.34"
        ],
        [
         "10",
         "2022-07-25 00:30:00.007000+00:00",
         "11.4",
         "10.4",
         "22.55",
         "73.93",
         "99770.56"
        ],
        [
         "11",
         "2022-07-25 00:32:49.845000+00:00",
         "11.53",
         "10.43",
         "22.52",
         "73.88",
         "99773.09"
        ],
        [
         "12",
         "2022-07-25 00:35:38.437000+00:00",
         "12.33",
         "11.33",
         "22.16",
         "73.65",
         "99719.88"
        ],
        [
         "13",
         "2022-07-25 00:38:26.963000+00:00",
         "12.53",
         "11.43",
         "22.5",
         "73.77",
         "99772.53"
        ],
        [
         "14",
         "2022-07-25 00:41:15.533000+00:00",
         "10.77",
         "9.77",
         "22.51",
         "73.5",
         "99769.53"
        ],
        [
         "15",
         "2022-07-25 00:44:04.313000+00:00",
         "12.33",
         "11.2",
         "22.47",
         "73.7",
         "99768.44"
        ],
        [
         "16",
         "2022-07-25 00:46:53.682000+00:00",
         "12.37",
         "11.17",
         "21.92",
         "73.48",
         "99675.34"
        ],
        [
         "17",
         "2022-07-25 00:49:43.702000+00:00",
         "12.0",
         "10.83",
         "22.43",
         "74.0",
         "99770.16"
        ],
        [
         "18",
         "2022-07-25 00:52:32.271000+00:00",
         "11.97",
         "10.9",
         "22.37",
         "73.95",
         "99767.75"
        ],
        [
         "19",
         "2022-07-25 00:55:21.073000+00:00",
         "11.6",
         "10.7",
         "22.31",
         "74.39",
         "99766.16"
        ],
        [
         "20",
         "2022-07-25 00:58:09.680000+00:00",
         "13.6",
         "12.43",
         "22.39",
         "73.87",
         "99762.81"
        ],
        [
         "21",
         "2022-07-25 01:00:58.381000+00:00",
         "12.03",
         "10.87",
         "22.3",
         "74.63",
         "99765.38"
        ],
        [
         "22",
         "2022-07-25 01:03:49.692000+00:00",
         "11.47",
         "10.23",
         "22.25",
         "74.71",
         "99754.47"
        ],
        [
         "23",
         "2022-07-25 01:06:39.543000+00:00",
         "12.37",
         "11.2",
         "22.16",
         "75.18",
         "99744.44"
        ],
        [
         "24",
         "2022-07-25 01:09:28.188000+00:00",
         "12.3",
         "11.3",
         "22.17",
         "75.41",
         "99752.38"
        ],
        [
         "25",
         "2022-07-25 01:12:16.736000+00:00",
         "12.5",
         "11.4",
         "22.16",
         "75.7",
         "99744.44"
        ],
        [
         "26",
         "2022-07-25 01:15:05.668000+00:00",
         "11.37",
         "10.33",
         "22.16",
         "75.58",
         "99742.53"
        ],
        [
         "27",
         "2022-07-25 01:17:54.310000+00:00",
         "12.7",
         "11.6",
         "22.07",
         "76.19",
         "99744.28"
        ],
        [
         "28",
         "2022-07-25 01:20:44.519000+00:00",
         "11.37",
         "10.47",
         "21.99",
         "76.97",
         "99739.44"
        ],
        [
         "29",
         "2022-07-25 01:23:33.081000+00:00",
         "12.53",
         "11.53",
         "22.04",
         "76.7",
         "99735.84"
        ],
        [
         "30",
         "2022-07-25 01:26:21.623000+00:00",
         "11.67",
         "10.77",
         "21.88",
         "77.4",
         "99732.44"
        ],
        [
         "31",
         "2022-07-25 01:29:10.179000+00:00",
         "11.43",
         "10.4",
         "21.9",
         "77.46",
         "99729.41"
        ],
        [
         "32",
         "2022-07-25 01:31:58.708000+00:00",
         "12.43",
         "11.33",
         "21.8",
         "77.97",
         "99734.97"
        ],
        [
         "33",
         "2022-07-25 01:34:47.217000+00:00",
         "13.97",
         "12.6",
         "21.77",
         "78.27",
         "99721.91"
        ],
        [
         "34",
         "2022-07-25 01:37:39.421000+00:00",
         "14.2",
         "12.6",
         "21.62",
         "78.52",
         "99716.53"
        ],
        [
         "35",
         "2022-07-25 01:40:28.105000+00:00",
         "13.03",
         "11.9",
         "21.74",
         "78.24",
         "99723.28"
        ],
        [
         "36",
         "2022-07-25 01:43:16.640000+00:00",
         "13.3",
         "12.1",
         "21.58",
         "78.18",
         "99716.31"
        ],
        [
         "37",
         "2022-07-25 01:46:05.365000+00:00",
         "12.0",
         "11.0",
         "21.74",
         "78.12",
         "99731.47"
        ],
        [
         "38",
         "2022-07-25 01:48:53.975000+00:00",
         "13.5",
         "12.4",
         "21.62",
         "78.76",
         "99716.53"
        ],
        [
         "39",
         "2022-07-25 01:51:42.489000+00:00",
         "12.2",
         "11.2",
         "21.5",
         "79.48",
         "99718.84"
        ],
        [
         "40",
         "2022-07-25 01:54:32.386000+00:00",
         "14.27",
         "12.83",
         "21.43",
         "80.0",
         "99716.41"
        ],
        [
         "41",
         "2022-07-25 01:57:20.916000+00:00",
         "14.3",
         "13.1",
         "21.38",
         "79.9",
         "99704.72"
        ],
        [
         "42",
         "2022-07-25 02:00:14.541000+00:00",
         "13.7",
         "12.5",
         "21.41",
         "79.97",
         "99704.97"
        ],
        [
         "43",
         "2022-07-25 02:03:20.369000+00:00",
         "13.13",
         "12.0",
         "21.41",
         "79.96",
         "99704.16"
        ],
        [
         "44",
         "2022-07-25 02:06:09.446000+00:00",
         "13.17",
         "11.93",
         "21.51",
         "79.08",
         "99698.63"
        ],
        [
         "45",
         "2022-07-25 02:08:57.999000+00:00",
         "12.53",
         "11.43",
         "21.44",
         "79.54",
         "99690.75"
        ],
        [
         "46",
         "2022-07-25 02:11:47.910000+00:00",
         "13.87",
         "12.77",
         "21.42",
         "79.82",
         "99700.31"
        ],
        [
         "47",
         "2022-07-25 02:14:36.409000+00:00",
         "13.23",
         "12.03",
         "21.27",
         "79.42",
         "99665.78"
        ],
        [
         "48",
         "2022-07-25 02:17:24.961000+00:00",
         "12.93",
         "11.77",
         "21.41",
         "79.72",
         "99695.97"
        ],
        [
         "49",
         "2022-07-25 02:20:13.603000+00:00",
         "13.0",
         "11.7",
         "21.23",
         "80.34",
         "99692.03"
        ]
       ],
       "shape": {
        "columns": 6,
        "rows": 519067
       }
      },
      "text/html": [
       "<div>\n",
       "<style scoped>\n",
       "    .dataframe tbody tr th:only-of-type {\n",
       "        vertical-align: middle;\n",
       "    }\n",
       "\n",
       "    .dataframe tbody tr th {\n",
       "        vertical-align: top;\n",
       "    }\n",
       "\n",
       "    .dataframe thead th {\n",
       "        text-align: right;\n",
       "    }\n",
       "</style>\n",
       "<table border=\"1\" class=\"dataframe\">\n",
       "  <thead>\n",
       "    <tr style=\"text-align: right;\">\n",
       "      <th></th>\n",
       "      <th>createdat</th>\n",
       "      <th>pm10</th>\n",
       "      <th>pm25</th>\n",
       "      <th>temperatur</th>\n",
       "      <th>rel_luftfeuchte</th>\n",
       "      <th>luftdruck</th>\n",
       "    </tr>\n",
       "  </thead>\n",
       "  <tbody>\n",
       "    <tr>\n",
       "      <th>0</th>\n",
       "      <td>2022-07-25 00:01:49.463000+00:00</td>\n",
       "      <td>10.73</td>\n",
       "      <td>9.93</td>\n",
       "      <td>22.98</td>\n",
       "      <td>73.16</td>\n",
       "      <td>99784.28</td>\n",
       "    </tr>\n",
       "    <tr>\n",
       "      <th>1</th>\n",
       "      <td>2022-07-25 00:04:39.011000+00:00</td>\n",
       "      <td>10.80</td>\n",
       "      <td>9.80</td>\n",
       "      <td>23.02</td>\n",
       "      <td>71.94</td>\n",
       "      <td>99785.34</td>\n",
       "    </tr>\n",
       "    <tr>\n",
       "      <th>2</th>\n",
       "      <td>2022-07-25 00:07:27.816000+00:00</td>\n",
       "      <td>11.70</td>\n",
       "      <td>10.70</td>\n",
       "      <td>22.95</td>\n",
       "      <td>71.77</td>\n",
       "      <td>99781.03</td>\n",
       "    </tr>\n",
       "    <tr>\n",
       "      <th>3</th>\n",
       "      <td>2022-07-25 00:10:16.348000+00:00</td>\n",
       "      <td>11.77</td>\n",
       "      <td>10.77</td>\n",
       "      <td>22.95</td>\n",
       "      <td>71.67</td>\n",
       "      <td>99777.47</td>\n",
       "    </tr>\n",
       "    <tr>\n",
       "      <th>4</th>\n",
       "      <td>2022-07-25 00:13:04.992000+00:00</td>\n",
       "      <td>11.10</td>\n",
       "      <td>10.20</td>\n",
       "      <td>22.89</td>\n",
       "      <td>72.10</td>\n",
       "      <td>99773.19</td>\n",
       "    </tr>\n",
       "    <tr>\n",
       "      <th>...</th>\n",
       "      <td>...</td>\n",
       "      <td>...</td>\n",
       "      <td>...</td>\n",
       "      <td>...</td>\n",
       "      <td>...</td>\n",
       "      <td>...</td>\n",
       "    </tr>\n",
       "    <tr>\n",
       "      <th>519062</th>\n",
       "      <td>2025-06-29 21:23:28.881000+00:00</td>\n",
       "      <td>4.03</td>\n",
       "      <td>3.73</td>\n",
       "      <td>25.45</td>\n",
       "      <td>70.21</td>\n",
       "      <td>100483.41</td>\n",
       "    </tr>\n",
       "    <tr>\n",
       "      <th>519063</th>\n",
       "      <td>2025-06-29 21:26:16.735000+00:00</td>\n",
       "      <td>3.37</td>\n",
       "      <td>3.07</td>\n",
       "      <td>25.39</td>\n",
       "      <td>71.26</td>\n",
       "      <td>100484.56</td>\n",
       "    </tr>\n",
       "    <tr>\n",
       "      <th>519064</th>\n",
       "      <td>2025-06-29 21:29:10.554000+00:00</td>\n",
       "      <td>3.57</td>\n",
       "      <td>3.27</td>\n",
       "      <td>25.23</td>\n",
       "      <td>72.35</td>\n",
       "      <td>100488.56</td>\n",
       "    </tr>\n",
       "    <tr>\n",
       "      <th>519065</th>\n",
       "      <td>2025-06-29 21:31:58.780000+00:00</td>\n",
       "      <td>3.47</td>\n",
       "      <td>3.10</td>\n",
       "      <td>24.68</td>\n",
       "      <td>72.74</td>\n",
       "      <td>100420.53</td>\n",
       "    </tr>\n",
       "    <tr>\n",
       "      <th>519066</th>\n",
       "      <td>2025-06-29 21:34:51.707000+00:00</td>\n",
       "      <td>3.27</td>\n",
       "      <td>3.07</td>\n",
       "      <td>25.07</td>\n",
       "      <td>72.78</td>\n",
       "      <td>100492.59</td>\n",
       "    </tr>\n",
       "  </tbody>\n",
       "</table>\n",
       "<p>519067 rows × 6 columns</p>\n",
       "</div>"
      ],
      "text/plain": [
       "                              createdat   pm10   pm25  temperatur  \\\n",
       "0      2022-07-25 00:01:49.463000+00:00  10.73   9.93       22.98   \n",
       "1      2022-07-25 00:04:39.011000+00:00  10.80   9.80       23.02   \n",
       "2      2022-07-25 00:07:27.816000+00:00  11.70  10.70       22.95   \n",
       "3      2022-07-25 00:10:16.348000+00:00  11.77  10.77       22.95   \n",
       "4      2022-07-25 00:13:04.992000+00:00  11.10  10.20       22.89   \n",
       "...                                 ...    ...    ...         ...   \n",
       "519062 2025-06-29 21:23:28.881000+00:00   4.03   3.73       25.45   \n",
       "519063 2025-06-29 21:26:16.735000+00:00   3.37   3.07       25.39   \n",
       "519064 2025-06-29 21:29:10.554000+00:00   3.57   3.27       25.23   \n",
       "519065 2025-06-29 21:31:58.780000+00:00   3.47   3.10       24.68   \n",
       "519066 2025-06-29 21:34:51.707000+00:00   3.27   3.07       25.07   \n",
       "\n",
       "        rel_luftfeuchte  luftdruck  \n",
       "0                 73.16   99784.28  \n",
       "1                 71.94   99785.34  \n",
       "2                 71.77   99781.03  \n",
       "3                 71.67   99777.47  \n",
       "4                 72.10   99773.19  \n",
       "...                 ...        ...  \n",
       "519062            70.21  100483.41  \n",
       "519063            71.26  100484.56  \n",
       "519064            72.35  100488.56  \n",
       "519065            72.74  100420.53  \n",
       "519066            72.78  100492.59  \n",
       "\n",
       "[519067 rows x 6 columns]"
      ]
     },
     "execution_count": 61,
     "metadata": {},
     "output_type": "execute_result"
    }
   ],
   "source": [
    "import requests\n",
    "import pandas as pd\n",
    "response = requests.get(\"http://localhost:8000/get-db\")\n",
    "df = pd.DataFrame(response.json()[\"data\"])\n",
    "df['createdat'] = pd.to_datetime(df['createdat'], format=\"ISO8601\", utc=True)\n",
    "df"
   ]
  },
  {
   "cell_type": "code",
   "execution_count": 64,
   "id": "92239d17",
   "metadata": {},
   "outputs": [
    {
     "data": {
      "application/vnd.microsoft.datawrangler.viewer.v0+json": {
       "columns": [
        {
         "name": "index",
         "rawType": "object",
         "type": "string"
        },
        {
         "name": "0",
         "rawType": "object",
         "type": "unknown"
        }
       ],
       "ref": "f6629bf3-b076-49f0-8fcf-370fc9b00961",
       "rows": [
        [
         "createdat",
         "datetime64[ns, UTC]"
        ],
        [
         "pm10",
         "object"
        ],
        [
         "pm25",
         "object"
        ],
        [
         "temperatur",
         "object"
        ],
        [
         "rel_luftfeuchte",
         "object"
        ],
        [
         "luftdruck",
         "object"
        ]
       ],
       "shape": {
        "columns": 1,
        "rows": 6
       }
      },
      "text/plain": [
       "createdat          datetime64[ns, UTC]\n",
       "pm10                            object\n",
       "pm25                            object\n",
       "temperatur                      object\n",
       "rel_luftfeuchte                 object\n",
       "luftdruck                       object\n",
       "dtype: object"
      ]
     },
     "execution_count": 64,
     "metadata": {},
     "output_type": "execute_result"
    }
   ],
   "source": [
    "df.dtypes"
   ]
  },
  {
   "cell_type": "markdown",
   "id": "e67701a7",
   "metadata": {},
   "source": [
    "Jetzt kann das Modell trainiert werden."
   ]
  },
  {
   "cell_type": "code",
   "execution_count": 66,
   "id": "87d5f2cc",
   "metadata": {},
   "outputs": [
    {
     "data": {
      "text/plain": [
       "{'message': 'Model trained and saved.'}"
      ]
     },
     "execution_count": 66,
     "metadata": {},
     "output_type": "execute_result"
    }
   ],
   "source": [
    "import numpy as np\n",
    "df = df.replace([np.nan, np.inf, -np.inf], None)\n",
    "# Vorbereitung für JSON: Zeitstempel als Strings\n",
    "payload = df[[\"createdat\", \"temperatur\"]].copy()\n",
    "payload[\"createdat\"] = payload[\"createdat\"].dt.strftime(\"%Y-%m-%dT%H:%M:%SZ\")\n",
    "\n",
    "json_payload = payload.to_dict()\n",
    "\n",
    "response = requests.post(\"http://localhost:9000/train\", json=json_payload)\n",
    "response.json()"
   ]
  },
  {
   "cell_type": "markdown",
   "id": "37ca28ec",
   "metadata": {},
   "source": [
    "Jetzt kann man das dashboard frei benutzen. Die Datenbank füllt sich automatisch mit den neuen Daten, sobald das Dashboard geöffnet wird."
   ]
  }
 ],
 "metadata": {
  "kernelspec": {
   "display_name": ".venv",
   "language": "python",
   "name": "python3"
  },
  "language_info": {
   "codemirror_mode": {
    "name": "ipython",
    "version": 3
   },
   "file_extension": ".py",
   "mimetype": "text/x-python",
   "name": "python",
   "nbconvert_exporter": "python",
   "pygments_lexer": "ipython3",
   "version": "3.13.3"
  }
 },
 "nbformat": 4,
 "nbformat_minor": 5
}
